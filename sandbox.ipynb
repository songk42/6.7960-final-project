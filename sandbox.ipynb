{
 "cells": [
  {
   "cell_type": "code",
   "execution_count": 1,
   "metadata": {},
   "outputs": [
    {
     "name": "stdout",
     "output_type": "stream",
     "text": [
      "\n",
      "\n",
      "Please cite the following paper when using nnUNet:\n",
      "\n",
      "Isensee, F., Jaeger, P.F., Kohl, S.A.A. et al. \"nnU-Net: a self-configuring method for deep learning-based biomedical image segmentation.\" Nat Methods (2020). https://doi.org/10.1038/s41592-020-01008-z\n",
      "\n",
      "\n",
      "If you have questions or suggestions, feel free to open an issue at https://github.com/MIC-DKFZ/nnUNet\n",
      "\n"
     ]
    }
   ],
   "source": [
    "from matplotlib import pyplot as plt\n",
    "import numpy as np\n",
    "import torch\n",
    "from torch.utils.data import DataLoader\n",
    "import tqdm\n",
    "\n",
    "import configs.deconv, configs.unet\n",
    "from unet import UNet\n",
    "from unet_deconv import UNetDeconv"
   ]
  },
  {
   "cell_type": "code",
   "execution_count": 2,
   "metadata": {},
   "outputs": [],
   "source": [
    "def loss(output, target):\n",
    "    return torch.nn.functional.mse_loss(output, target)\n",
    "\n",
    "def train_loop(dataloader, model, loss_fn, optimizer, num_epochs=10):\n",
    "    pbar = tqdm.tqdm(range(num_epochs), desc='Loss = N/A | Epochs')\n",
    "    for _ in pbar:\n",
    "        total_loss = 0\n",
    "        for data in dataloader:\n",
    "            pred = model(data)\n",
    "            loss = loss_fn(pred, data)\n",
    "            total_loss += loss.item()\n",
    "            optimizer.zero_grad()\n",
    "            loss.backward()\n",
    "            optimizer.step()\n",
    "        pbar.set_description(f'Loss = {total_loss:.6f} | Epochs')"
   ]
  },
  {
   "cell_type": "code",
   "execution_count": 3,
   "metadata": {},
   "outputs": [],
   "source": [
    "unet_model = UNet(**configs.unet.get_config().unet).to(\"cuda\")\n",
    "deconv_model = UNetDeconv(**configs.deconv.get_config().unet).to(\"cuda\")"
   ]
  },
  {
   "cell_type": "code",
   "execution_count": 4,
   "metadata": {},
   "outputs": [],
   "source": [
    "stripes_x = np.load(\"/home/songk/6.7960-final-project/data/stripes_x_32x32.npy\")"
   ]
  },
  {
   "cell_type": "code",
   "execution_count": 5,
   "metadata": {},
   "outputs": [],
   "source": [
    "input_img = stripes_x.astype(np.float32)\n",
    "input_img = np.expand_dims(input_img, axis=0)\n",
    "input_img = np.expand_dims(input_img, axis=0)\n",
    "input_img = torch.from_numpy(input_img).to(\"cuda\")\n",
    "dataloader = DataLoader(input_img, batch_size=1, shuffle=True)"
   ]
  },
  {
   "cell_type": "code",
   "execution_count": 15,
   "metadata": {},
   "outputs": [
    {
     "name": "stderr",
     "output_type": "stream",
     "text": [
      "Loss = 0.146814 | Epochs: 100%|██████████| 1000/1000 [02:34<00:00,  6.46it/s]\n"
     ]
    }
   ],
   "source": [
    "train_loop(dataloader, unet_model, loss, torch.optim.Adam(unet_model.parameters()), num_epochs=1000)"
   ]
  },
  {
   "cell_type": "code",
   "execution_count": 16,
   "metadata": {},
   "outputs": [
    {
     "name": "stderr",
     "output_type": "stream",
     "text": [
      "Loss = 0.250208 | Epochs: 100%|██████████| 1000/1000 [03:04<00:00,  5.43it/s]\n"
     ]
    }
   ],
   "source": [
    "train_loop(dataloader, deconv_model, loss, torch.optim.Adam(deconv_model.parameters()), num_epochs=1000)"
   ]
  },
  {
   "cell_type": "code",
   "execution_count": 18,
   "metadata": {},
   "outputs": [],
   "source": [
    "def viewer(image,x,y,z):\n",
    "    plt.gray()\n",
    "    fig, ax  = plt.subplots(1, 3)\n",
    "    fig.tight_layout()\n",
    "\n",
    "    ax[0].set_xlabel('x')\n",
    "    ax[0].set_ylabel('y')\n",
    "    ax[0].imshow(image[:,:,z])\n",
    "    ax[1].set_xlabel('y')\n",
    "    ax[1].set_ylabel('z')\n",
    "    ax[1].imshow(np.flip(image[x,:,:].transpose()))\n",
    "    ax[2].set_xlabel('x')\n",
    "    ax[2].set_ylabel('z')\n",
    "    ax[2].imshow(image[:,y,:])\n",
    "    ax[1].set_title(f\"Slices at {x}, {y}, {z}\")\n",
    "    plt.show()"
   ]
  },
  {
   "cell_type": "code",
   "execution_count": 27,
   "metadata": {},
   "outputs": [],
   "source": [
    "x = 7\n",
    "y = 18\n",
    "z = 20"
   ]
  },
  {
   "cell_type": "code",
   "execution_count": 28,
   "metadata": {},
   "outputs": [
    {
     "data": {
      "text/plain": [
       "<Figure size 640x480 with 0 Axes>"
      ]
     },
     "metadata": {},
     "output_type": "display_data"
    },
    {
     "data": {
      "image/png": "[encoded data removed]",
      "text/plain": [
       "<Figure size 640x480 with 3 Axes>"
      ]
     },
     "metadata": {},
     "output_type": "display_data"
    }
   ],
   "source": [
    "viewer(input_img[0,0].cpu().numpy(), x, y, z)"
   ]
  },
  {
   "cell_type": "code",
   "execution_count": 29,
   "metadata": {},
   "outputs": [
    {
     "data": {
      "text/plain": [
       "<Figure size 640x480 with 0 Axes>"
      ]
     },
     "metadata": {},
     "output_type": "display_data"
    },
    {
     "data": {
      "image/png": "[encoded data removed]",
      "text/plain": [
       "<Figure size 640x480 with 3 Axes>"
      ]
     },
     "metadata": {},
     "output_type": "display_data"
    }
   ],
   "source": [
    "viewer(deconv_model(input_img).cpu().detach().numpy()[0, 0], x, y, z)"
   ]
  },
  {
   "cell_type": "code",
   "execution_count": 24,
   "metadata": {},
   "outputs": [
    {
     "data": {
      "text/plain": [
       "(np.float32(0.0), np.float32(1.0))"
      ]
     },
     "execution_count": 24,
     "metadata": {},
     "output_type": "execute_result"
    }
   ],
   "source": [
    "out = unet_model(input_img).cpu().detach().numpy()[0, 0]\n",
    "np.min(out), np.max(out)"
   ]
  },
  {
   "cell_type": "code",
   "execution_count": 25,
   "metadata": {},
   "outputs": [
    {
     "data": {
      "text/plain": [
       "(np.float32(0.0), np.float32(1.0))"
      ]
     },
     "execution_count": 25,
     "metadata": {},
     "output_type": "execute_result"
    }
   ],
   "source": [
    "out = deconv_model(input_img).cpu().detach().numpy()[0, 0]\n",
    "np.min(out), np.max(out)"
   ]
  }
 ],
 "metadata": {
  "kernelspec": {
   "display_name": "deep-final",
   "language": "python",
   "name": "python3"
  },
  "language_info": {
   "codemirror_mode": {
    "name": "ipython",
    "version": 3
   },
   "file_extension": ".py",
   "mimetype": "text/x-python",
   "name": "python",
   "nbconvert_exporter": "python",
   "pygments_lexer": "ipython3",
   "version": "3.9.20"
  }
 },
 "nbformat": 4,
 "nbformat_minor": 2
}
