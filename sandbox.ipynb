{
 "cells": [
  {
   "cell_type": "code",
   "execution_count": 1,
   "metadata": {},
   "outputs": [
    {
     "name": "stdout",
     "output_type": "stream",
     "text": [
      "\n",
      "\n",
      "Please cite the following paper when using nnUNet:\n",
      "\n",
      "Isensee, F., Jaeger, P.F., Kohl, S.A.A. et al. \"nnU-Net: a self-configuring method for deep learning-based biomedical image segmentation.\" Nat Methods (2020). https://doi.org/10.1038/s41592-020-01008-z\n",
      "\n",
      "\n",
      "If you have questions or suggestions, feel free to open an issue at https://github.com/MIC-DKFZ/nnUNet\n",
      "\n"
     ]
    }
   ],
   "source": [
    "from matplotlib import pyplot as plt\n",
    "import numpy as np\n",
    "import torch\n",
    "from torch.utils.data import DataLoader\n",
    "import tqdm\n",
    "\n",
    "from config import get_config\n",
    "from unet import UNet"
   ]
  },
  {
   "cell_type": "code",
   "execution_count": 2,
   "metadata": {},
   "outputs": [],
   "source": [
    "def loss(output, target):\n",
    "    return torch.nn.functional.mse_loss(output, target)\n",
    "\n",
    "def train_loop(dataloader, model, loss_fn, optimizer, num_epochs=10):\n",
    "    pbar = tqdm.tqdm(range(num_epochs), desc='Loss = N/A | Epochs')\n",
    "    for _ in pbar:\n",
    "        total_loss = 0\n",
    "        for data in dataloader:\n",
    "            pred = model(data)\n",
    "            loss = loss_fn(pred, data)\n",
    "            total_loss += loss.item()\n",
    "            optimizer.zero_grad()\n",
    "            loss.backward()\n",
    "            optimizer.step()\n",
    "        pbar.set_description(f'Loss = {total_loss:.6f} | Epochs')"
   ]
  },
  {
   "cell_type": "code",
   "execution_count": 3,
   "metadata": {},
   "outputs": [],
   "source": [
    "config = get_config()\n",
    "unet_model = UNet(\n",
    "    input_irreps=config.input_irreps,\n",
    "    output_irreps=config.output_irreps,\n",
    "    diameter=config.diameter,\n",
    "    num_radial_basis=config.num_radial_basis,\n",
    "    steps=config.steps,\n",
    "    n_downsample=config.n_downsample,\n",
    "    scalar_upsampling=config.scalar_upsampling,\n",
    ").to(config.device)"
   ]
  },
  {
   "cell_type": "code",
   "execution_count": null,
   "metadata": {},
   "outputs": [],
   "source": [
    "stripes_x = np.load(\"/home/songk/6.7960-final-project/data/stripes_x_32x32.npy\")"
   ]
  },
  {
   "cell_type": "code",
   "execution_count": 5,
   "metadata": {},
   "outputs": [],
   "source": [
    "input_img = stripes_x.astype(np.float32)\n",
    "input_img = np.expand_dims(input_img, axis=0)\n",
    "input_img = np.expand_dims(input_img, axis=0)\n",
    "input_img = torch.from_numpy(input_img).to(config.device)\n",
    "dataloader = DataLoader(input_img, batch_size=1, shuffle=True)"
   ]
  },
  {
   "cell_type": "code",
   "execution_count": 6,
   "metadata": {},
   "outputs": [
    {
     "name": "stderr",
     "output_type": "stream",
     "text": [
      "Loss = 0.055769 | Epochs: 100%|██████████| 1000/1000 [02:37<00:00,  6.34it/s]\n"
     ]
    }
   ],
   "source": [
    "train_loop(dataloader, unet_model, loss, torch.optim.Adam(unet_model.parameters()), num_epochs=1000)"
   ]
  },
  {
   "cell_type": "code",
   "execution_count": 80,
   "metadata": {},
   "outputs": [],
   "source": [
    "def viewer(image,x,y,z):\n",
    "    plt.gray()\n",
    "    fig, ax  = plt.subplots(1, 3)\n",
    "    fig.tight_layout()\n",
    "\n",
    "    ax[0].set_xlabel('x')\n",
    "    ax[0].set_ylabel('y')\n",
    "    ax[0].imshow(image[:,:,z])\n",
    "    ax[1].set_xlabel('y')\n",
    "    ax[1].set_ylabel('z')\n",
    "    ax[1].imshow(np.flip(image[x,:,:].transpose()))\n",
    "    ax[2].set_xlabel('x')\n",
    "    ax[2].set_ylabel('z')\n",
    "    ax[2].imshow(image[:,y,:])\n",
    "    ax[1].set_title(f\"Slices at {x}, {y}, {z}\")\n",
    "    plt.show()"
   ]
  },
  {
   "cell_type": "code",
   "execution_count": 81,
   "metadata": {},
   "outputs": [],
   "source": [
    "x = 7\n",
    "y = 10\n",
    "z = 18"
   ]
  },
  {
   "cell_type": "code",
   "execution_count": 82,
   "metadata": {},
   "outputs": [
    {
     "data": {
      "text/plain": [
       "<Figure size 640x480 with 0 Axes>"
      ]
     },
     "metadata": {},
     "output_type": "display_data"
    },
    {
     "data": {
      "image/png": "[encoded data removed]",
      "text/plain": [
       "<Figure size 640x480 with 3 Axes>"
      ]
     },
     "metadata": {},
     "output_type": "display_data"
    }
   ],
   "source": [
    "viewer(input_img[0,0].cpu().numpy(), x, y, z)"
   ]
  },
  {
   "cell_type": "code",
   "execution_count": 83,
   "metadata": {},
   "outputs": [
    {
     "data": {
      "text/plain": [
       "<Figure size 640x480 with 0 Axes>"
      ]
     },
     "metadata": {},
     "output_type": "display_data"
    },
    {
     "data": {
      "image/png": "[encoded data removed]",
      "text/plain": [
       "<Figure size 640x480 with 3 Axes>"
      ]
     },
     "metadata": {},
     "output_type": "display_data"
    }
   ],
   "source": [
    "viewer(unet_model(input_img).cpu().detach().numpy()[0, 0], x, y, z)"
   ]
  },
  {
   "cell_type": "code",
   "execution_count": 11,
   "metadata": {},
   "outputs": [
    {
     "data": {
      "text/plain": [
       "ConvolutionBlock(\n",
       "  (gate1): Gate (112x0e+32x1e+16x2e -> 64x0e+32x1e+16x2e)\n",
       "  (conv1): Convolution(\n",
       "    (sc): Linear(32x0e+16x1e+8x2e -> 112x0e+32x1e+16x2e | 4224 weights)\n",
       "    (tp): FullyConnectedTensorProduct(32x0e+16x1e+8x2e x 1x0e+1x1e+1x2e -> 112x0e+32x1e+16x2e | 10752 paths | 10752 weights)\n",
       "  )\n",
       "  (batchnorm1): BatchNorm (112x0e+32x1e+16x2e, eps=1e-05, momentum=0.1)\n",
       "  (dropout1): Dropout (64x0e+32x1e+16x2e, p=0)\n",
       "  (gate2): Gate (112x0e+32x1e+16x2e -> 64x0e+32x1e+16x2e)\n",
       "  (conv2): Convolution(\n",
       "    (sc): Linear(64x0e+32x1e+16x2e -> 112x0e+32x1e+16x2e | 8448 weights)\n",
       "    (tp): FullyConnectedTensorProduct(64x0e+32x1e+16x2e x 1x0e+1x1e+1x2e -> 112x0e+32x1e+16x2e | 21504 paths | 21504 weights)\n",
       "  )\n",
       "  (batchnorm2): BatchNorm (112x0e+32x1e+16x2e, eps=1e-05, momentum=0.1)\n",
       "  (dropout2): Dropout (64x0e+32x1e+16x2e, p=0)\n",
       ")"
      ]
     },
     "execution_count": 11,
     "metadata": {},
     "output_type": "execute_result"
    }
   ],
   "source": [
    "unet_model.down.down_blocks[-1]"
   ]
  },
  {
   "cell_type": "code",
   "execution_count": 12,
   "metadata": {},
   "outputs": [
    {
     "data": {
      "text/plain": [
       "ModuleList(\n",
       "  (0-2): 3 x Upsample(scale_factor=(2.0, 2.0, 2.0), mode='trilinear')\n",
       ")"
      ]
     },
     "execution_count": 12,
     "metadata": {},
     "output_type": "execute_result"
    }
   ],
   "source": [
    "unet_model.up.upsample_ops"
   ]
  },
  {
   "cell_type": "code",
   "execution_count": 13,
   "metadata": {},
   "outputs": [
    {
     "name": "stdout",
     "output_type": "stream",
     "text": [
      "torch.Size([1, 1, 32, 32, 32])\n"
     ]
    }
   ],
   "source": [
    "def pad_size(image_shape,odd):\n",
    "\n",
    "    pooling_factor = np.ones(3,dtype='int')\n",
    "    for pool in unet_model.down.down_pool:\n",
    "        pooling_factor *= np.array(pool.kernel_size)\n",
    "\n",
    "    pad = [] \n",
    "    for f,s in zip(pooling_factor,image_shape):\n",
    "        p = 0  #padding for current dimension\n",
    "        if odd:\n",
    "            t = (s - 1) % f\n",
    "        else:\n",
    "            t = s % f\n",
    "\n",
    "        if t != 0:\n",
    "            p = f - t\n",
    "        pad.append(p)\n",
    "    \n",
    "    return pad\n",
    "\n",
    "for x in dataloader:\n",
    "    pass\n",
    "print(x.shape)\n",
    "pad = pad_size(x.shape[-3:],unet_model.odd_resize)\n",
    "x = torch.nn.functional.pad(x, (pad[-1], 0, pad[-2], 0, pad[-3], 0))\n",
    "\n",
    "down_output = unet_model.down(x)"
   ]
  },
  {
   "cell_type": "code",
   "execution_count": 14,
   "metadata": {},
   "outputs": [
    {
     "data": {
      "text/plain": [
       "[0, 0, 0]"
      ]
     },
     "execution_count": 14,
     "metadata": {},
     "output_type": "execute_result"
    }
   ],
   "source": [
    "pad\n",
    "# for a 3-layer model running on a 20x20x20 input\n",
    "# (where all layers halve the data size along each dimension),\n",
    "# this thing pads up the input to 24x24x24.\n",
    "# so what if we do 32x32x32 instead"
   ]
  },
  {
   "cell_type": "code",
   "execution_count": 15,
   "metadata": {},
   "outputs": [
    {
     "data": {
      "text/plain": [
       "torch.Size([1, 1, 32, 32, 32])"
      ]
     },
     "execution_count": 15,
     "metadata": {},
     "output_type": "execute_result"
    }
   ],
   "source": [
    "x.shape"
   ]
  },
  {
   "cell_type": "code",
   "execution_count": 16,
   "metadata": {},
   "outputs": [
    {
     "data": {
      "text/plain": [
       "torch.Size([1, 240, 4, 4, 4])"
      ]
     },
     "execution_count": 16,
     "metadata": {},
     "output_type": "execute_result"
    }
   ],
   "source": [
    "down_output.shape"
   ]
  },
  {
   "cell_type": "code",
   "execution_count": 17,
   "metadata": {},
   "outputs": [],
   "source": [
    "x = unet_model.up(down_output)\n",
    "x = unet_model.out(x.transpose(1, 4)).transpose(1, 4)\n",
    "if unet_model.bias is not None:\n",
    "    bias = unet_model.bias.reshape(-1, 1, 1, 1)\n",
    "    x = torch.cat([x[:, :unet_model.n_classes_scalar,...] + bias, x[:, unet_model.n_classes_scalar:,...]], dim=1)\n",
    "\n",
    "x = x[..., pad[0]:, pad[1]:, pad[2]:]"
   ]
  },
  {
   "cell_type": "code",
   "execution_count": 18,
   "metadata": {},
   "outputs": [
    {
     "data": {
      "text/plain": [
       "torch.Size([1, 1, 32, 32, 32])"
      ]
     },
     "execution_count": 18,
     "metadata": {},
     "output_type": "execute_result"
    }
   ],
   "source": [
    "x.shape"
   ]
  },
  {
   "cell_type": "code",
   "execution_count": null,
   "metadata": {},
   "outputs": [],
   "source": []
  }
 ],
 "metadata": {
  "kernelspec": {
   "display_name": "deep-final",
   "language": "python",
   "name": "python3"
  },
  "language_info": {
   "codemirror_mode": {
    "name": "ipython",
    "version": 3
   },
   "file_extension": ".py",
   "mimetype": "text/x-python",
   "name": "python",
   "nbconvert_exporter": "python",
   "pygments_lexer": "ipython3",
   "version": "3.9.20"
  }
 },
 "nbformat": 4,
 "nbformat_minor": 2
}
