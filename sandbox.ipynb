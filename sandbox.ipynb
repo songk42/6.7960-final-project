{
 "cells": [
  {
   "cell_type": "code",
   "execution_count": 1,
   "metadata": {},
   "outputs": [
    {
     "name": "stdout",
     "output_type": "stream",
     "text": [
      "\n",
      "\n",
      "Please cite the following paper when using nnUNet:\n",
      "\n",
      "Isensee, F., Jaeger, P.F., Kohl, S.A.A. et al. \"nnU-Net: a self-configuring method for deep learning-based biomedical image segmentation.\" Nat Methods (2020). https://doi.org/10.1038/s41592-020-01008-z\n",
      "\n",
      "\n",
      "If you have questions or suggestions, feel free to open an issue at https://github.com/MIC-DKFZ/nnUNet\n",
      "\n"
     ]
    }
   ],
   "source": [
    "from matplotlib import pyplot as plt\n",
    "import numpy as np\n",
    "import torch\n",
    "from torch.utils.data import DataLoader\n",
    "import tqdm\n",
    "\n",
    "import configs.deconv, configs.unet\n",
    "from unet import UNet\n",
    "from unet_deconv import UNetDeconv"
   ]
  },
  {
   "cell_type": "code",
   "execution_count": 2,
   "metadata": {},
   "outputs": [],
   "source": [
    "def loss(output, target):\n",
    "    return torch.nn.functional.mse_loss(output, target)\n",
    "\n",
    "def train_loop(dataloader, model, loss_fn, optimizer, num_epochs=10):\n",
    "    pbar = tqdm.tqdm(range(num_epochs), desc='Loss = N/A | Epochs')\n",
    "    for _ in pbar:\n",
    "        total_loss = 0\n",
    "        for data in dataloader:\n",
    "            pred = model(data)\n",
    "            loss = loss_fn(pred, data)\n",
    "            total_loss += loss.item()\n",
    "            optimizer.zero_grad()\n",
    "            loss.backward()\n",
    "            optimizer.step()\n",
    "        pbar.set_description(f'Loss = {total_loss:.6f} | Epochs')"
   ]
  },
  {
   "cell_type": "code",
   "execution_count": 3,
   "metadata": {},
   "outputs": [],
   "source": [
    "unet_model = UNet(**configs.unet.get_config().unet).to(\"cuda\")\n",
    "deconv_model = UNetDeconv(**configs.deconv.get_config().unet).to(\"cuda\")"
   ]
  },
  {
   "cell_type": "code",
   "execution_count": 4,
   "metadata": {},
   "outputs": [],
   "source": [
    "stripes_x = np.load(\"/home/songk/6.7960-final-project/data/stripes_x_32x32.npy\")"
   ]
  },
  {
   "cell_type": "code",
   "execution_count": 6,
   "metadata": {},
   "outputs": [],
   "source": [
    "input_img = stripes_x.astype(np.float32)[:8, :8, :8]\n",
    "input_img = np.expand_dims(input_img, axis=0)\n",
    "input_img = np.expand_dims(input_img, axis=0)\n",
    "input_img = torch.from_numpy(input_img).to(\"cuda\")\n",
    "dataloader = DataLoader(input_img, batch_size=1, shuffle=True)"
   ]
  },
  {
   "cell_type": "code",
   "execution_count": 7,
   "metadata": {},
   "outputs": [],
   "source": [
    "n = 0\n",
    "x = deconv_model.down(input_img)\n",
    "x = deconv_model.up.up_blocks[n](x)\n",
    "vecs, radii, alphas, betas = deconv_model.up._get_radii_and_angles(x, deconv_model.up.scale_factors[n])\n",
    "# radii = radii.unsqueeze(0)\n",
    "upsample = torch.nn.Upsample(scale_factor=deconv_model.up.scale_factors[0])\n",
    "x_upsampled = upsample(x)\n",
    "vecs_embed = deconv_model.up.position_blocks[0](vecs)"
   ]
  },
  {
   "cell_type": "code",
   "execution_count": 9,
   "metadata": {},
   "outputs": [
    {
     "data": {
      "text/plain": [
       "tensor([[[0.0000, 0.7242],\n",
       "         [0.7234, 0.0000]],\n",
       "\n",
       "        [[0.5789, 1.1257],\n",
       "         [1.1255, 0.5794]]], device='cuda:0', grad_fn=<SelectBackward0>)"
      ]
     },
     "execution_count": 9,
     "metadata": {},
     "output_type": "execute_result"
    }
   ],
   "source": [
    "x[0, 0]"
   ]
  },
  {
   "cell_type": "code",
   "execution_count": 10,
   "metadata": {},
   "outputs": [
    {
     "data": {
      "text/plain": [
       "tensor([[[0.0000, 0.0000, 0.7242, 0.7242],\n",
       "         [0.0000, 0.0000, 0.7242, 0.7242],\n",
       "         [0.7234, 0.7234, 0.0000, 0.0000],\n",
       "         [0.7234, 0.7234, 0.0000, 0.0000]],\n",
       "\n",
       "        [[0.0000, 0.0000, 0.7242, 0.7242],\n",
       "         [0.0000, 0.0000, 0.7242, 0.7242],\n",
       "         [0.7234, 0.7234, 0.0000, 0.0000],\n",
       "         [0.7234, 0.7234, 0.0000, 0.0000]],\n",
       "\n",
       "        [[0.5789, 0.5789, 1.1257, 1.1257],\n",
       "         [0.5789, 0.5789, 1.1257, 1.1257],\n",
       "         [1.1255, 1.1255, 0.5794, 0.5794],\n",
       "         [1.1255, 1.1255, 0.5794, 0.5794]],\n",
       "\n",
       "        [[0.5789, 0.5789, 1.1257, 1.1257],\n",
       "         [0.5789, 0.5789, 1.1257, 1.1257],\n",
       "         [1.1255, 1.1255, 0.5794, 0.5794],\n",
       "         [1.1255, 1.1255, 0.5794, 0.5794]]], device='cuda:0',\n",
       "       grad_fn=<SelectBackward0>)"
      ]
     },
     "execution_count": 10,
     "metadata": {},
     "output_type": "execute_result"
    }
   ],
   "source": [
    "x_upsampled[0, 0]"
   ]
  },
  {
   "cell_type": "code",
   "execution_count": 21,
   "metadata": {},
   "outputs": [
    {
     "data": {
      "text/plain": [
       "torch.Size([4, 4, 4, 9])"
      ]
     },
     "execution_count": 21,
     "metadata": {},
     "output_type": "execute_result"
    }
   ],
   "source": [
    "vecs_embed.shape"
   ]
  },
  {
   "cell_type": "code",
   "execution_count": 22,
   "metadata": {},
   "outputs": [
    {
     "data": {
      "text/plain": [
       "tensor([0., 0., 0., 0., 0., 0., 0., 0., 0., 0., 0., 0., 0., 0., 0., 0., 0., 0., 0., 0., 0., 0., 0., 0.,\n",
       "        0., 0., 0., 0., 0., 0., 0., 0., 0., 0., 0., 0., 0., 0., 0., 0., 0., 0., 0., 0., 0., 0., 0., 0.,\n",
       "        0., 0., 0., 0., 0., 0., 0., 0., 0., 0., 0., 0.], device='cuda:0',\n",
       "       grad_fn=<ViewBackward0>)"
      ]
     },
     "execution_count": 22,
     "metadata": {},
     "output_type": "execute_result"
    }
   ],
   "source": [
    "deconv_model.up.rebase_blocks[n](x_upsampled.transpose(1, 4)[0, 0, 0, 0, :], vecs_embed[0, 0, 0, :])"
   ]
  },
  {
   "cell_type": "code",
   "execution_count": 6,
   "metadata": {},
   "outputs": [
    {
     "name": "stderr",
     "output_type": "stream",
     "text": [
      "Loss = 0.244521 | Epochs: 100%|██████████| 100/100 [00:21<00:00,  4.63it/s]\n"
     ]
    }
   ],
   "source": [
    "# train_loop(dataloader, unet_model, loss, torch.optim.Adam(unet_model.parameters()), num_epochs=100)"
   ]
  },
  {
   "cell_type": "code",
   "execution_count": 7,
   "metadata": {},
   "outputs": [
    {
     "name": "stderr",
     "output_type": "stream",
     "text": [
      "Loss = 0.413629 | Epochs: 100%|██████████| 100/100 [00:15<00:00,  6.33it/s]\n"
     ]
    }
   ],
   "source": [
    "train_loop(dataloader, deconv_model, loss, torch.optim.Adam(deconv_model.parameters()), num_epochs=100)"
   ]
  },
  {
   "cell_type": "code",
   "execution_count": 8,
   "metadata": {},
   "outputs": [],
   "source": [
    "def viewer(image,x,y,z):\n",
    "    plt.gray()\n",
    "    fig, ax  = plt.subplots(1, 3)\n",
    "    fig.tight_layout()\n",
    "\n",
    "    ax[0].set_xlabel('x')\n",
    "    ax[0].set_ylabel('y')\n",
    "    ax[0].imshow(image[:,:,z])\n",
    "    ax[1].set_xlabel('y')\n",
    "    ax[1].set_ylabel('z')\n",
    "    ax[1].imshow(np.flip(image[x,:,:].transpose()))\n",
    "    ax[2].set_xlabel('x')\n",
    "    ax[2].set_ylabel('z')\n",
    "    ax[2].imshow(image[:,y,:])\n",
    "    ax[1].set_title(f\"Slices at {x}, {y}, {z}\")\n",
    "    plt.show()"
   ]
  },
  {
   "cell_type": "code",
   "execution_count": 9,
   "metadata": {},
   "outputs": [],
   "source": [
    "x = 7\n",
    "y = 8\n",
    "z = 20"
   ]
  },
  {
   "cell_type": "code",
   "execution_count": 10,
   "metadata": {},
   "outputs": [
    {
     "data": {
      "text/plain": [
       "<Figure size 640x480 with 0 Axes>"
      ]
     },
     "metadata": {},
     "output_type": "display_data"
    },
    {
     "data": {
      "image/png": "[encoded data removed]",
      "text/plain": [
       "<Figure size 640x480 with 3 Axes>"
      ]
     },
     "metadata": {},
     "output_type": "display_data"
    }
   ],
   "source": [
    "viewer(input_img[0,0].cpu().numpy(), x, y, z)"
   ]
  },
  {
   "cell_type": "code",
   "execution_count": 13,
   "metadata": {},
   "outputs": [
    {
     "data": {
      "text/plain": [
       "<Figure size 640x480 with 0 Axes>"
      ]
     },
     "metadata": {},
     "output_type": "display_data"
    },
    {
     "data": {
      "image/png": "[encoded data removed]",
      "text/plain": [
       "<Figure size 640x480 with 3 Axes>"
      ]
     },
     "metadata": {},
     "output_type": "display_data"
    }
   ],
   "source": [
    "viewer(deconv_model(input_img).cpu().detach().numpy()[0, 0], x, y, z)"
   ]
  },
  {
   "cell_type": "code",
   "execution_count": 15,
   "metadata": {},
   "outputs": [
    {
     "data": {
      "text/plain": [
       "np.float32(0.09640317)"
      ]
     },
     "execution_count": 15,
     "metadata": {},
     "output_type": "execute_result"
    }
   ],
   "source": [
    "np.max(deconv_model(input_img).cpu().detach().numpy()[0, 0])"
   ]
  },
  {
   "cell_type": "code",
   "execution_count": null,
   "metadata": {},
   "outputs": [],
   "source": []
  }
 ],
 "metadata": {
  "kernelspec": {
   "display_name": "deep-final",
   "language": "python",
   "name": "python3"
  },
  "language_info": {
   "codemirror_mode": {
    "name": "ipython",
    "version": 3
   },
   "file_extension": ".py",
   "mimetype": "text/x-python",
   "name": "python",
   "nbconvert_exporter": "python",
   "pygments_lexer": "ipython3",
   "version": "3.9.20"
  }
 },
 "nbformat": 4,
 "nbformat_minor": 2
}
