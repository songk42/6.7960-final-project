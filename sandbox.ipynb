{
 "cells": [
  {
   "cell_type": "code",
   "execution_count": 29,
   "metadata": {},
   "outputs": [],
   "source": [
    "from matplotlib import pyplot as plt\n",
    "import nibabel as nib\n",
    "import numpy as np\n",
    "import torch\n",
    "from torch.utils.data import DataLoader\n",
    "import tqdm\n",
    "\n",
    "from config import get_config\n",
    "from unet import UNet"
   ]
  },
  {
   "cell_type": "code",
   "execution_count": 30,
   "metadata": {},
   "outputs": [],
   "source": [
    "def loss(output, target):\n",
    "    return torch.nn.functional.mse_loss(output, target)\n",
    "\n",
    "def train_loop(dataloader, model, loss_fn, optimizer, num_epochs=10):\n",
    "    total_loss = np.inf\n",
    "    pbar = tqdm.tqdm(range(num_epochs), desc=f'Loss = {total_loss:.6f} | Epochs')\n",
    "    for _ in pbar:\n",
    "        total_loss = 0\n",
    "        for data in dataloader:\n",
    "            pred = model(data)\n",
    "            loss = loss_fn(pred, data)\n",
    "            total_loss += loss.item()\n",
    "            optimizer.zero_grad()\n",
    "            loss.backward()\n",
    "            optimizer.step()\n",
    "        pbar.set_description(f'Loss = {total_loss:.6f} | Epochs')"
   ]
  },
  {
   "cell_type": "code",
   "execution_count": 31,
   "metadata": {},
   "outputs": [],
   "source": [
    "config = get_config()\n",
    "unet_model = UNet(\n",
    "    input_irreps=config.input_irreps,\n",
    "    output_irreps=config.output_irreps,\n",
    "    diameter=config.diameter,\n",
    "    num_radial_basis=config.num_radial_basis,\n",
    "    steps=config.steps,\n",
    "    n_downsample=config.n_downsample,\n",
    "    scalar_upsampling=config.scalar_upsampling,\n",
    ").to(config.device)"
   ]
  },
  {
   "cell_type": "code",
   "execution_count": 34,
   "metadata": {},
   "outputs": [],
   "source": [
    "stripes_x = np.load(\"/home/songk/6.7960-final-project/stripes_x_20x20.npy\")"
   ]
  },
  {
   "cell_type": "code",
   "execution_count": 36,
   "metadata": {},
   "outputs": [],
   "source": [
    "input_img = stripes_x.astype(np.float32)\n",
    "input_img = np.expand_dims(input_img, axis=0)\n",
    "input_img = np.expand_dims(input_img, axis=0)\n",
    "input_img = torch.from_numpy(input_img).to(config.device)\n",
    "dataloader = DataLoader(input_img, batch_size=1, shuffle=True)"
   ]
  },
  {
   "cell_type": "code",
   "execution_count": 47,
   "metadata": {},
   "outputs": [
    {
     "name": "stderr",
     "output_type": "stream",
     "text": [
      "Loss = 0.177660 | Epochs: 100%|██████████| 100/100 [00:14<00:00,  6.89it/s]\n"
     ]
    }
   ],
   "source": [
    "train_loop(dataloader, unet_model, loss, torch.optim.Adam(unet_model.parameters()), num_epochs=100)"
   ]
  },
  {
   "cell_type": "code",
   "execution_count": 48,
   "metadata": {},
   "outputs": [],
   "source": [
    "def viewer(image,x,y,z):\n",
    "    plt.gray()\n",
    "    plt.subplot(221)\n",
    "    plt.imshow(np.flip(image[:,:,z].transpose()),aspect=x/y)\n",
    "    plt.subplot(222)\n",
    "    plt.imshow(np.flip(image[x,:,:].transpose()),aspect =y/z)\n",
    "    plt.subplot(224)\n",
    "    plt.imshow(np.flip(image[:,y,:].transpose()),aspect=x/z)\n",
    "    plt.show()"
   ]
  },
  {
   "cell_type": "code",
   "execution_count": 49,
   "metadata": {},
   "outputs": [],
   "source": [
    "x = 10\n",
    "y = 10\n",
    "z = 10"
   ]
  },
  {
   "cell_type": "code",
   "execution_count": 50,
   "metadata": {},
   "outputs": [
    {
     "data": {
      "image/png": "[encoded data removed]",
      "text/plain": [
       "<Figure size 640x480 with 3 Axes>"
      ]
     },
     "metadata": {},
     "output_type": "display_data"
    }
   ],
   "source": [
    "viewer(input_img[0,0].cpu().numpy(), x, y, z)"
   ]
  },
  {
   "cell_type": "code",
   "execution_count": 51,
   "metadata": {},
   "outputs": [
    {
     "data": {
      "image/png": "[encoded data removed]",
      "text/plain": [
       "<Figure size 640x480 with 3 Axes>"
      ]
     },
     "metadata": {},
     "output_type": "display_data"
    }
   ],
   "source": [
    "viewer(unet_model(input_img).cpu().detach().numpy()[0, 0], x, y, z)"
   ]
  },
  {
   "cell_type": "code",
   "execution_count": null,
   "metadata": {},
   "outputs": [],
   "source": []
  }
 ],
 "metadata": {
  "kernelspec": {
   "display_name": "deep-final",
   "language": "python",
   "name": "python3"
  },
  "language_info": {
   "codemirror_mode": {
    "name": "ipython",
    "version": 3
   },
   "file_extension": ".py",
   "mimetype": "text/x-python",
   "name": "python",
   "nbconvert_exporter": "python",
   "pygments_lexer": "ipython3",
   "version": "3.9.20"
  }
 },
 "nbformat": 4,
 "nbformat_minor": 2
}
